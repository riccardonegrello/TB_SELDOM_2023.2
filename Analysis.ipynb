{
 "cells": [
  {
   "cell_type": "code",
   "execution_count": 1,
   "id": "f38176c8",
   "metadata": {},
   "outputs": [],
   "source": [
    "%matplotlib widget\n",
    "import h5py\n",
    "import numpy as np\n",
    "import matplotlib.pyplot as plt\n",
    "from scipy.integrate import simps\n",
    "from scipy.optimize import curve_fit\n",
    "import json\n",
    "import uproot\n",
    "from Utils import *\n",
    "from matplotlib import ticker, cm\n",
    "import succolib as sb\n",
    "from matplotlib.ticker import LogFormatter \n",
    "import succolib as sl\n",
    "from scipy.integrate import quad"
   ]
  },
  {
   "cell_type": "code",
   "execution_count": 2,
   "id": "549bbb28",
   "metadata": {},
   "outputs": [
    {
     "data": {
      "text/plain": [
       "{'RunAllignment': 720374,\n",
       " 'd_12': 921,\n",
       " 'd_23': 91,\n",
       " 'd_2crist': 43,\n",
       " 'd_1crist': 964,\n",
       " 'd_13': 1012,\n",
       " 'd_tele1BC2': 1580,\n",
       " 'data_dir': '/eos/project/i/insulab-como/testBeam/TB_2023_08_H8_SELDOM/HDF5',\n",
       " 'offset_x2': 0.07806817598347049,\n",
       " 'offset_y2': -0.3215607824343533,\n",
       " 'offset_x3': 0.11587483304062503,\n",
       " 'offset_y3': -0.5105463416185236,\n",
       " 'offset_x4': -0.038727162032854784,\n",
       " 'offset_y4': 4.21592233820313,\n",
       " 'div_12x': 3.9158902242421664e-05,\n",
       " 'div_12y': 2.856314570199142e-05,\n",
       " 'div_13x': 3.8990252314782414e-05,\n",
       " 'div_13y': 2.7872540269441723e-05,\n",
       " 'div_BC1x': 3.758456156762604e-05,\n",
       " 'div_BC1y': 2.7299236033839342e-05}"
      ]
     },
     "execution_count": 2,
     "metadata": {},
     "output_type": "execute_result"
    }
   ],
   "source": [
    "config_file = r\"./config.json\"\n",
    "\n",
    "with open(config_file, \"r\") as f:\n",
    "            dizi = json.load(f)\n",
    "dizi"
   ]
  },
  {
   "cell_type": "code",
   "execution_count": 3,
   "id": "172455d6",
   "metadata": {},
   "outputs": [],
   "source": [
    "#720227 con run di allineamento 720218\n",
    "#720255 \n",
    "\n",
    "runs=[720379] \n",
    "Brucoplot = False\n",
    "div_ang_func_x = False\n",
    "data_dir = dizi[\"data_dir\"]\n",
    "pos =[]\n",
    "infos=[]\n",
    "for run in runs:\n",
    "    data_path = f'{data_dir}/run{run}.h5'\n",
    "\n",
    "    with h5py.File(data_path, 'r', libver='latest', swmr=True) as hf:\n",
    "        #print(hf.keys())\n",
    "        hf[\"xpos\"].shape\n",
    "        keys = list(hf.keys())\n",
    "        #for k in hf.keys():\n",
    "        #    comand = f'{k} = np.array(hf[\"{k}\"])'\n",
    "            # print(comand)\n",
    "          #  exec(comand)\n",
    "        pos.append(np.array(hf['xpos']))\n",
    "        infos.append(np.array(hf['xinfo']))\n",
    "\n",
    "#print(np.shape(pos))\n",
    "#print(np.shape(infos))\n",
    "        \n",
    "xpos = np.concatenate(pos,axis=0)\n",
    "xinfo = np.concatenate(infos,axis=0)\n",
    "\n",
    "#print(np.shape(xpos))\n",
    "#print(np.shape(xinfo))\n",
    "\n",
    "logic = (xpos > 0) & (xpos < 10)\n",
    "logic2 = logic.all(axis = 1)\n",
    "xpos = xpos[logic2]\n",
    "xinfo = xinfo[logic2]\n",
    "\n",
    "\n",
    "my_cmap= copy.copy(mpl.cm.magma)\n",
    "my_cmap.set_bad(my_cmap(0))\n"
   ]
  },
  {
   "cell_type": "code",
   "execution_count": 4,
   "id": "1c36275a",
   "metadata": {},
   "outputs": [],
   "source": [
    "xpos[:,2] -= dizi['offset_x2']\n",
    "xpos[:,3] -= dizi['offset_y2']\n",
    "xpos[:,4] -= dizi['offset_x3']\n",
    "xpos[:,5] -= dizi['offset_y3']\n",
    "xpos[:,6] -= dizi['offset_x4']\n",
    "xpos[:,7] -= dizi['offset_y4']\n",
    "#########################################\n",
    "x1, y1 = xpos[:,0], xpos[:,1]\n",
    "x2, y2 = xpos[:,2], xpos[:,3]\n",
    "x3, y3 = xpos[:,4], xpos[:,5]\n",
    "x4, y4 = xpos[:,6], xpos[:,7] # BC1\n",
    "\n",
    "rot = xinfo[:,0]\n",
    "\n",
    "def proiettaDistZ(z):\n",
    "    mx = (x2-x1)/dizi[\"d_12\"]\n",
    "    xProj = x1 + mx * z\n",
    "    \n",
    "    my = (y2-y1)/dizi[\"d_12\"]\n",
    "    yProj = y1 + my * z\n",
    "    \n",
    "    return (xProj, yProj)\n",
    "    \n",
    "x_cry, y_cry = proiettaDistZ(dizi[\"d_12\"]+dizi[\"d_2crist\"])\n",
    "\n"
   ]
  },
  {
   "cell_type": "code",
   "execution_count": 5,
   "id": "9416538b",
   "metadata": {},
   "outputs": [],
   "source": [
    "###Si potrebbe fare un plot sulle correlazioni delle variabili, x1, x2; y1, y2; ..."
   ]
  },
  {
   "cell_type": "markdown",
   "id": "b1f8e758",
   "metadata": {},
   "source": [
    "### Definizione delle variabili\n",
    "\n"
   ]
  },
  {
   "cell_type": "code",
   "execution_count": 6,
   "id": "ed557805",
   "metadata": {},
   "outputs": [
    {
     "name": "stdout",
     "output_type": "stream",
     "text": [
      "568\n"
     ]
    }
   ],
   "source": [
    "# definizione di theta x in\n",
    "theta_in_x = np.arctan((x2-x1)/dizi['d_12']) * 1e6 # urad\n",
    "theta_in_y = np.arctan((y2-y1)/dizi['d_12']) * 1e6 # urad\n",
    "\n",
    "# theta out calcolato tra tele3 e BC1 ---> PER ANGOLI PICCOLI\n",
    "d_3BC1 = dizi[\"d_tele1BC2\"]-dizi[\"d_13\"]\n",
    "\n",
    "theta_out_x = np.arctan((x4-x3)/d_3BC1) * 1e6 # urad\n",
    "theta_out_y = np.arctan((y4-y3)/d_3BC1) * 1e6 # urad\n",
    "thetain = [theta_in_x, theta_in_y]\n",
    "thetaout = [theta_out_x, theta_out_y]\n",
    "print(d_3BC1)\n"
   ]
  },
  {
   "cell_type": "markdown",
   "id": "fbd9a578",
   "metadata": {},
   "source": [
    "### Plot istogrammi $\\theta_{in}$, $\\theta_{out}$ "
   ]
  },
  {
   "cell_type": "code",
   "execution_count": 7,
   "id": "a98817ed",
   "metadata": {},
   "outputs": [
    {
     "data": {
      "application/vnd.jupyter.widget-view+json": {
       "model_id": "369d6db5cd314aa78b3d80695950ffba",
       "version_major": 2,
       "version_minor": 0
      },
      "text/plain": [
       "Canvas(toolbar=Toolbar(toolitems=[('Home', 'Reset original view', 'home', 'home'), ('Back', 'Back to previous …"
      ]
     },
     "metadata": {},
     "output_type": "display_data"
    },
    {
     "name": "stdout",
     "output_type": "stream",
     "text": [
      "(6,)\n",
      "La divergenza in x vale 37.476 μrad\n",
      "\n",
      "La divergenza in y vale 26.930 μrad\n",
      "\n",
      "La divergenza in x vale -46.215 μrad\n",
      "\n",
      "La divergenza in y vale -34.624 μrad\n",
      "\n"
     ]
    }
   ],
   "source": [
    "thetaLbl = [\"x\",\"y\",\"_\",\"x\",\"y\",\"_\"]#,\"x\",\"y\",\"_\"]\n",
    "num_bins = 500\n",
    "fig, ax = plt.subplots(2,3)\n",
    "fig.set_size_inches(10,7)\n",
    "fig.subplots_adjust(wspace=.4,hspace=.8)\n",
    "ax=ax.flatten()\n",
    "print(ax.shape)\n",
    "titles = [fr\"$\\theta_X in$ \", fr\"$\\theta_Y in $\",\"_\",fr\"$\\theta_X out $ \", fr\"$\\theta_Y out $\",\"_\"]\n",
    "titels2= [fr\"$\\theta_X out2 $ \", fr\"$\\theta_Y out2 $\",\"_\"]\n",
    "\n",
    "fit_par=[]\n",
    "for i in range(5):\n",
    "    if i== 2 or i==5:\n",
    "        continue\n",
    "    if i>=0 and i<2 :\n",
    "        h, bins = np.histogram(thetain[i], bins = 100, range =[-300,300])\n",
    "        binc = bins[:-1] + (bins[1] - bins[0]) / 2\n",
    "        p0 = (np.max(h), binc[np.argmax(h)], np.std(thetain[i]))\n",
    "    elif i>2 and i<=4:\n",
    "        h, bins = np.histogram(thetaout[i-3], bins = 500,  range =[-300,300])\n",
    "        binc = bins[:-1] + (bins[1] - bins[0]) / 2\n",
    "        p0 = (np.max(h), binc[np.argmax(h)], np.std(thetaout[i-3]))\n",
    "        \n",
    "    cond = h>0\n",
    "    popt, pcov = curve_fit(myGauss, binc[cond], h[cond], sigma = np.sqrt(h[cond]), absolute_sigma = True, p0 = p0)\n",
    "    fit_par.append(popt)\n",
    "\n",
    "    ax[i].plot(binc, h, ds = \"steps-mid\", c = \"green\", lw = .7,\n",
    "               label = fr\"$\\theta_{thetaLbl[i]}$\")\n",
    "\n",
    "    ax[i].plot(binc, myGauss(binc, *popt), ls = \"--\", c = \"k\", label = f\"Fit ({popt[1]:.3f} $\\pm$ {popt[2]:.3f} $\\mu$ rad)\")\n",
    "\n",
    "    ax[i].grid()\n",
    "    ax[i].set_title(titles[i])\n",
    "    ax[i].set_ylabel(\"Entries\", fontsize = 9)    \n",
    "    ax[i].set_xlabel(r\"$\\theta$ [$\\mu$rad]\",fontsize = 9)\n",
    "\n",
    "    ax[i].legend(fontsize = 7)\n",
    "\n",
    "    print(f\"La divergenza in {thetaLbl[i]} vale {popt[2]:.3f} \\u03BCrad\\n\")\n",
    "\n",
    "\n",
    "# PLOT hist2d\n",
    "ax[2].hist2d(thetain[0], thetain[1], bins=100, range=[[-200,200],[-200,200]], cmap=\"inferno\")\n",
    "ax[5].hist2d(thetaout[0], thetaout[1], bins=100, range=[[-250,250],[-250,250]], cmap=\"inferno\")\n",
    "\n",
    "\n",
    "# Etichette degli assi\n",
    "ax[2].grid()\n",
    "ax[2].set_xlabel('thetax')\n",
    "ax[2].set_ylabel('thetay')\n",
    "\n",
    "ax[5].grid()\n",
    "ax[5].set_xlabel('thetax')\n",
    "ax[5].set_ylabel('thetay')\n",
    "\n",
    "\n",
    "plt.show()"
   ]
  },
  {
   "cell_type": "markdown",
   "id": "d74a1d2e",
   "metadata": {},
   "source": [
    "#### Divergenza angolare in funzione della posizione in x del cristallo"
   ]
  },
  {
   "cell_type": "code",
   "execution_count": 8,
   "id": "d7bc2e8d",
   "metadata": {},
   "outputs": [],
   "source": [
    "    # Definizione delle posizioni\n",
    "x_positions = xinfo[:,2]\n",
    "\n",
    "x_val = (x_cry) #fattore 2 serve per terere conto del fatto che l'unità di misura delle posizioni del goniometro è di 2mm # +x_positions/2*0.1\n",
    "DelfX = theta_out_x - theta_in_x\n",
    "#DelfX2 = theta_out_x2 - theta_in_x  #tele3-BC2"
   ]
  },
  {
   "cell_type": "code",
   "execution_count": 9,
   "id": "d930dc4a",
   "metadata": {},
   "outputs": [],
   "source": [
    " #if len(np.unique(xinfo[:,2]))>2 else False\n",
    "\n",
    "if div_ang_func_x:\n",
    "\n",
    "    fig, ax = plt.subplots()\n",
    "    fig.set_size_inches(12, 5)\n",
    "\n",
    "    # Istogramma dei dati \n",
    "    hh = ax.hist2d(x_val, DelfX, bins=[500, 200], range=[[np.min(x_val)+0.67,np.max(x_val)], [-150,150]], cmap=my_cmap,norm=mpl.colors.LogNorm())\n",
    "    colorbar1 = fig.colorbar(hh[3], ax=ax)\n",
    "    ax.axvline(x=0.963, c=\"white\", ls=\"--\")\n",
    "    ax.axvline(x=1.157, c=\"white\", ls=\"--\")\n",
    "\n",
    "    plt.show()\n"
   ]
  },
  {
   "cell_type": "code",
   "execution_count": 10,
   "id": "41c378f2",
   "metadata": {},
   "outputs": [],
   "source": [
    "###DEFINIZIONE DEL TAGLIO LOGICO SUL CRISTALLO\n",
    "#logi_cry=(x_val>5.68) & (x_val<7.8)\n",
    "logi_cry=(x_val>0.928) & (x_val<1.121)\n",
    "th_in_cut_low = fit_par[0][1] -10#2.5\n",
    "th_in_cut_high = fit_par[0][1] +10#2.5\n",
    "logi_th_in = (theta_in_x > th_in_cut_low) & (theta_in_x < th_in_cut_high)\n"
   ]
  },
  {
   "cell_type": "code",
   "execution_count": 11,
   "id": "4c1ea732",
   "metadata": {},
   "outputs": [],
   "source": [
    "div_ang_func_xv2 = False #div_ang_func_x\n",
    "\n",
    "#questo è un plot delle posizioni delle particelle interagenti con il detector 2 proiettate sul cristallo, plottate per i d\n",
    "steps= np.unique(xinfo[:,2])\n",
    "if div_ang_func_xv2:    \n",
    "\n",
    "    for step in steps:\n",
    "        #Scelta dei limiti per theta in \n",
    "        \n",
    "        fig, ax = plt.subplots(3,1, sharex = True)\n",
    "        fig.set_size_inches(7, 5)\n",
    "\n",
    "        #definisco le posizioni\n",
    "        Dtheta = theta_out_x-theta_in_x\n",
    "        logi_Dtheta = (Dtheta > 0) & (Dtheta < 500) #taglio logico sui Dtheta, per ridurre i bin \n",
    "        #Istogrammo i dati\n",
    "        x_positions=xinfo[:,2]\n",
    "        hh = ax[0].hist2d(x_cry[(logi_th_in) & (logi_Dtheta) & (x_positions == step)]*100, Dtheta[(logi_th_in) & (logi_Dtheta) & (x_positions == step)], bins = [50,2000])# , norm = mpl.colors.LogNorm(), cmap = my_cmap)\n",
    "        # print(np.shape(hh[0]))\n",
    "\n",
    "        ax[0].set_ylim(200, 400)\n",
    "\n",
    "\n",
    "        binc = hh[1][:-1] + (hh[1][1] - hh[1][0]) / 2\n",
    "\n",
    "        # print(np.max(hh[0]))\n",
    "        tresh = 0.01*np.max(hh[0])\n",
    "        binary = hh[0]>tresh\n",
    "        # print(np.shape(np.sum(binary,axis=1)))\n",
    "        # ax[2].imshow((binary).T,origin=\"lower\")\n",
    "\n",
    "        ax[1].plot(binc,np.sum(binary,axis=1))\n",
    "        \n",
    "        #Tentativo di fare il profile\n",
    "        X_prof, Y_prof ,sigma_Y = sb.hist2dToProfile(hh, \"mean\")\n",
    "        ax[2].errorbar(X_prof,Y_prof,sigma_Y)\n",
    "        ax[2].grid()\n",
    "\n",
    "        for a in ax:\n",
    "            a.set_xlabel('x scan [mm]')\n",
    "            a.set_ylabel('defl X[$\\mu$rad]')\n",
    "            #a.set_xlim(0.9,1.35)\n",
    "            #a.axvline(0.895, c = 'hotpink')\n",
    "            #a.axvline(x_cut_low, c = 'hotpink')\n",
    "            #a.axvline(x_cut_high, c = 'hotpink')\n",
    "        fig.colorbar(hh[3], ax = ax[0])\n",
    "        #fig.savefig(f'./img/Div{i}.png')\n",
    "        #fig.savefig(f'./pdf/Div{i}.pdf')\n",
    "        #plt.close(fig)\n",
    "    plt.show()"
   ]
  },
  {
   "cell_type": "markdown",
   "id": "537e64dc",
   "metadata": {},
   "source": [
    "#### Bruco plot"
   ]
  },
  {
   "cell_type": "code",
   "execution_count": 12,
   "id": "d7e564be",
   "metadata": {},
   "outputs": [
    {
     "name": "stdout",
     "output_type": "stream",
     "text": [
      "2584\n"
     ]
    },
    {
     "data": {
      "application/vnd.jupyter.widget-view+json": {
       "model_id": "90a248d41b7d428bb8969886ecdda354",
       "version_major": 2,
       "version_minor": 0
      },
      "text/plain": [
       "Canvas(toolbar=Toolbar(toolitems=[('Home', 'Reset original view', 'home', 'home'), ('Back', 'Back to previous …"
      ]
     },
     "metadata": {},
     "output_type": "display_data"
    },
    {
     "name": "stdout",
     "output_type": "stream",
     "text": [
      "[48.851765 48.851765 48.851765 ... 48.851765 48.851765 48.851765]\n"
     ]
    }
   ],
   "source": [
    "#if len(np.unique(xinfo[:,0]))>1 else False\n",
    "\n",
    "if Brucoplot:\n",
    "    deflX = theta_out_x-theta_in_x\n",
    "    fig, ax = plt.subplots()\n",
    "    fig.set_size_inches(10, 7)\n",
    "    rot = xinfo[:,0]\n",
    "    #fig.suptitle(f'Bruco Plot [{x_cut_low:.4f}_{x_cut_high:.4f} um]', fontsize = 20)\n",
    "    bin_step = 2 #urad\n",
    "    \n",
    "    hh = ax.hist2d((rot+theta_in_x)[logi_cry],(deflX)[logi_cry], \n",
    "                    bins = [len(np.unique(xinfo[:,0]))*10, 300],\n",
    "                    cmap = my_cmap,\n",
    "                    range = [[min(rot)-300,max(rot)+300],[-1000,1000]])#,\n",
    "                    #norm=mpl.colors.LogNorm())\n",
    "\n",
    "    X_prof, Y_prof, sigma_Y = sb.hist2dToProfile(hh, \"mean\")\n",
    "    ax.errorbar(X_prof, Y_prof, sigma_Y, color = \"red\", lw =0.2)\n",
    "    #ax.grid()\n",
    "    theta_c=50 #urad\n",
    "    ax.set_xlabel('Theta X in [$\\mu$rad]')\n",
    "    ax.set_ylabel('Defl X [$\\mu$rad]')\n",
    "    \n",
    "    fig.colorbar(hh[3], ax = ax)\n",
    "    ax.axvline(x=-1126-theta_c/4, c=\"white\", ls=\"--\")\n",
    "    ax.axvline(x=-1126+theta_c/4, c=\"white\", ls=\"--\")\n",
    "    # fig.savefig(f'./img/Bruco{i}.png')\n",
    "    #fig.savefig(f'./pdf/Bruco{i}.pdf')\n",
    "    #plt.close(fig)\n",
    "    plt.show()\n",
    "    \n",
    "    z=hh[0]\n",
    "    x_list = hh[1]\n",
    "    y_list =hh[2]\n",
    "\n",
    "    x_space = [[x_list[i]]*z.shape[1] for i in range(0, z.shape[0])]\n",
    "    y_space = [y_list[:-1]]*z.shape[0]\n",
    "    \n",
    "BrucoplotSDAQ= not(Brucoplot)\n",
    "if BrucoplotSDAQ:\n",
    "    print(len(theta_in_x))\n",
    "    deflX = theta_out_x-theta_in_x\n",
    "    fig, ax = plt.subplots()\n",
    "    fig.set_size_inches(10, 7)\n",
    "    rot = xinfo[:,0]\n",
    "    print(rot)\n",
    "    #fig.suptitle(f'Bruco Plot [{x_cut_low:.4f}_{x_cut_high:.4f} um]', fontsize = 20)\n",
    "    bin_step = 2 #urad\n",
    "    \n",
    "    hh = ax.hist2d((theta_in_x)[logi_cry],(deflX)[logi_cry], \n",
    "                    bins = [100, 150],\n",
    "                    cmap = my_cmap,\n",
    "                    range = [[-100,100],[-100,150]])#,\n",
    "                    #norm=mpl.colors.LogNorm())\n",
    "\n",
    "    X_prof, Y_prof, sigma_Y = sb.hist2dToProfile(hh, \"mean\")\n",
    "    ax.errorbar(X_prof, Y_prof, sigma_Y, color = \"red\", lw =0.2)\n",
    "    #ax.grid()\n",
    "    theta_c=50 #urad\n",
    "\n",
    "\n",
    "    ax.set_xlabel('Theta X in [$\\mu$rad]')\n",
    "    ax.set_ylabel('Defl X [$\\mu$rad]')\n",
    "\n",
    "\n",
    "    fig.colorbar(hh[3], ax = ax)\n",
    "    #ax.axvline(x=-1126-theta_c/4, c=\"white\", ls=\"--\")\n",
    "    #ax.axvline(x=-1126+theta_c/4, c=\"white\", ls=\"--\")\n",
    "    # fig.savefig(f'./img/Bruco{i}.png')\n",
    "    #fig.savefig(f'./pdf/Bruco{i}.pdf')\n",
    "    #plt.close(fig)\n",
    "\n",
    "    z=hh[0]\n",
    "    x_list = hh[1]\n",
    "    y_list =hh[2]\n",
    "\n",
    "    x_space = [[x_list[i]]*z.shape[1] for i in range(0, z.shape[0])]\n",
    "    y_space = [y_list[:-1]]*z.shape[0]\n",
    "    plt.show()"
   ]
  },
  {
   "cell_type": "code",
   "execution_count": 15,
   "id": "8b3b54d7",
   "metadata": {},
   "outputs": [],
   "source": [
    "# U_0_111=19\n",
    "# E=120e9\n",
    "# theta_c = np.sqrt(2*U_0_111/E)*10**6\n",
    "theta_c=50 #urad\n",
    "\n",
    "subrange = [-theta_c/4, theta_c/4, -100, 150]  # angular phase space subrange in which to perform 1d analysis\n",
    "bXSide =True\n",
    "fitRange = [30, 120]  # gaussian fit range\n",
    "fitCentre = 62  # gaussian fit approx. centre\n",
    "fitSigma = 40  # gaussian fit approx. sigma\n",
    "nSigmasIntegrate = 2  # number of gaussian sigmas over which to perform peak integral (i.e. efficiency computation)\n",
    "bCompute = False\n",
    "bPlot=True\n",
    "bAverage=True\n",
    "bFit = True"
   ]
  },
  {
   "cell_type": "code",
   "execution_count": 16,
   "id": "0010cbf7",
   "metadata": {
    "scrolled": true
   },
   "outputs": [],
   "source": [
    "if bCompute: \n",
    "    \n",
    "    xPlot, yPlot = projPhaseSpace((np.array(x_space), np.array(y_space), np.array(z)), subrange, \"x\" if bXSide else \"y\", bAverage)\n",
    "    xPlot, yPlot=rebin(xPlot, yPlot, nBin=2)\n",
    "    area = simps(yPlot, xPlot)\n",
    "    yPlot=yPlot/area\n",
    "    \n",
    "    if bFit:\n",
    "        xFit0 = np.where((xPlot >= fitRange[0]) & (xPlot <= fitRange[1]), xPlot, np.nan)\n",
    "        yFit0 = np.where((xPlot >= fitRange[0]) & (xPlot <= fitRange[1]), yPlot, np.nan)\n",
    "        xFit1, yFit1 = xFit0[np.logical_not(np.isnan(xFit0))], yFit0[np.logical_not(np.isnan(yFit0))]\n",
    "\n",
    "        p0 = [max(yFit1), fitCentre, fitSigma]\n",
    "        par, cov = curve_fit(sl.fGaus, xFit1, yFit1, p0=p0, maxfev = 800)  # fit output: par = (ampl, mean, sigma)\n",
    "        xFit = np.linspace(min(xFit1), max(xFit1), 1000)\n",
    "        yFit = sl.fGaus(xFit, *par)\n",
    "        gaussIntegral = quad(lambda xx : sl.fGaus(xx, *par), par[1]-nSigmasIntegrate*par[2], par[1]+nSigmasIntegrate*par[2])\n",
    "\n",
    "        print(\"gaussian peak HEIGHT is %f\" % par[0])\n",
    "        print(\"gaussian peak CENTRE is %f urad\" % par[1])\n",
    "        print(\"gaussian peak SIGMA is %f urad\" % par[2])\n",
    "        if bAverage:\n",
    "            print(\"gaussian peak integral over total i.e. EFFICIENCY is %f\" % (gaussIntegral[0]/1))\n",
    "        else:\n",
    "            print(\"toggle average over same-abscissa points to get a value for the EFFICIENCY\")\n",
    "\n",
    "    if bPlot:\n",
    "        plt.close(\"channelingFits\")\n",
    "        plt.figure(\"channelingFits\", figsize=[8, 5])\n",
    "        plt.title(\"angular phase space projection to %s axis\" % \"y\" if bXSide else \"x\")\n",
    "        plt.xlabel(\"output angle [urad]\")\n",
    "\n",
    "        plt.plot(xPlot, yPlot, marker=\".\", ms=3, lw=0, c=\"C0\")\n",
    "        if bFit:\n",
    "            plt.plot(xFit, yFit, c=\"r\", lw=1)\n",
    "            plt.axvline(x = par[1], c=\"r\", lw=1)\n",
    "            plt.axvline(x = par[1]-par[2], c=\"r\", ls=\":\", lw=1)\n",
    "            plt.axvline(x = par[1]+par[2], c=\"r\", ls=\":\", lw=1)\n",
    "\n",
    "        plt.tight_layout()\n",
    "        plt.show()"
   ]
  },
  {
   "cell_type": "code",
   "execution_count": null,
   "id": "72bac8e4",
   "metadata": {},
   "outputs": [],
   "source": []
  },
  {
   "cell_type": "code",
   "execution_count": null,
   "id": "bf477726",
   "metadata": {},
   "outputs": [],
   "source": []
  },
  {
   "cell_type": "code",
   "execution_count": null,
   "id": "e038bbea",
   "metadata": {},
   "outputs": [],
   "source": []
  }
 ],
 "metadata": {
  "@webio": {
   "lastCommId": null,
   "lastKernelId": null
  },
  "kernelspec": {
   "display_name": "Python 3",
   "language": "python",
   "name": "python3"
  },
  "language_info": {
   "codemirror_mode": {
    "name": "ipython",
    "version": 3
   },
   "file_extension": ".py",
   "mimetype": "text/x-python",
   "name": "python",
   "nbconvert_exporter": "python",
   "pygments_lexer": "ipython3",
   "version": "3.9.12"
  }
 },
 "nbformat": 4,
 "nbformat_minor": 5
}
